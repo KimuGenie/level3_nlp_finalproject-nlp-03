{
 "cells": [
  {
   "cell_type": "code",
   "execution_count": 1,
   "metadata": {},
   "outputs": [],
   "source": [
    "import json"
   ]
  },
  {
   "cell_type": "code",
   "execution_count": 2,
   "metadata": {},
   "outputs": [],
   "source": [
    "data_paths = [\"annotated_train.json\", \"fixed_newdata1.json\", \"fixed_newdata2.json\", \"newdata3_temp1.json\"]"
   ]
  },
  {
   "cell_type": "code",
   "execution_count": 71,
   "metadata": {},
   "outputs": [],
   "source": [
    "raw_data = []\n",
    "for path in data_paths:\n",
    "    with open(path, \"r\", encoding=\"utf-8\") as f:\n",
    "        data = json.load(f)\n",
    "    raw_data.extend(data)"
   ]
  },
  {
   "cell_type": "code",
   "execution_count": 35,
   "metadata": {},
   "outputs": [
    {
     "data": {
      "text/plain": [
       "372"
      ]
     },
     "execution_count": 35,
     "metadata": {},
     "output_type": "execute_result"
    }
   ],
   "source": [
    "len(raw_data)"
   ]
  },
  {
   "cell_type": "code",
   "execution_count": 14,
   "metadata": {},
   "outputs": [],
   "source": [
    "import sys\n",
    "sys.path.append(\"../\")"
   ]
  },
  {
   "cell_type": "code",
   "execution_count": 40,
   "metadata": {},
   "outputs": [],
   "source": [
    "from chat_bot.neural_chat.craigslist.price_parser import price_to_int, parse_prices"
   ]
  },
  {
   "cell_type": "code",
   "execution_count": 72,
   "metadata": {},
   "outputs": [],
   "source": [
    "# price to int\n",
    "for d in raw_data:\n",
    "    d[\"price\"] = str(d[\"price\"])\n",
    "    d[\"price\"] = d[\"price\"].replace(\"원\", \"\")\n",
    "    d[\"price\"] = price_to_int(d[\"price\"])"
   ]
  },
  {
   "cell_type": "code",
   "execution_count": 73,
   "metadata": {},
   "outputs": [],
   "source": [
    "# strip\n",
    "for d in raw_data:\n",
    "    d[\"title\"] = d[\"title\"].strip()\n",
    "    d[\"description\"] = d[\"description\"].strip()\n",
    "    for ev in d[\"events\"]:\n",
    "        ev[\"message\"] = ev[\"message\"].strip()"
   ]
  },
  {
   "cell_type": "code",
   "execution_count": 74,
   "metadata": {},
   "outputs": [],
   "source": [
    "# add result\n",
    "for d in raw_data:\n",
    "    if d[\"events\"][-1][\"role\"] == \"판매자\": continue\n",
    "    if d[\"result\"] == \"ACCEPT\":\n",
    "        d[\"events\"].append({\"role\": \"판매자\", \"message\": \"##<수락>##\"})\n",
    "    elif d[\"result\"] == \"DENY\":\n",
    "        d[\"events\"].append({\"role\": \"판매자\", \"message\": \"##<거절>##\"})\n",
    "    else:\n",
    "        raise NotImplementedError"
   ]
  },
  {
   "cell_type": "code",
   "execution_count": 75,
   "metadata": {},
   "outputs": [],
   "source": [
    "# check turns\n",
    "roles = [\"구매자\", \"판매자\"]\n",
    "for d in raw_data:\n",
    "    for i, ev in enumerate(d[\"events\"]):\n",
    "        assert ev[\"role\"] == roles[i % 2], f\"{i}\""
   ]
  },
  {
   "cell_type": "code",
   "execution_count": 76,
   "metadata": {},
   "outputs": [],
   "source": [
    "# check final price\n",
    "for i, d in enumerate(raw_data):\n",
    "    if int(d[\"events\"][-2][\"message\"][3:-3]) < d[\"price\"] // 2:\n",
    "        print(i)"
   ]
  },
  {
   "cell_type": "code",
   "execution_count": 77,
   "metadata": {},
   "outputs": [],
   "source": [
    "def price_to_text(price):\n",
    "    text = \"\"\n",
    "    q, r = divmod(price, 10000)\n",
    "    if q: text += f\"{q}만 \"\n",
    "    q, r = divmod(r, 1000)\n",
    "    if q: text += f\"{q}천 \"\n",
    "    q, r = divmod(r, 100)\n",
    "    if q: text += f\"{q}백\"\n",
    "    \n",
    "    return text.strip()"
   ]
  },
  {
   "cell_type": "code",
   "execution_count": 92,
   "metadata": {},
   "outputs": [],
   "source": [
    "from matplotlib import pyplot as plt\n",
    "from transformers import AutoTokenizer\n",
    "from chat_bot.neural_chat.conversation import get_default_conv_template"
   ]
  },
  {
   "cell_type": "code",
   "execution_count": 89,
   "metadata": {},
   "outputs": [],
   "source": [
    "tokenizer = AutoTokenizer.from_pretrained(\"nlpai-lab/kullm-polyglot-12.8b-v2\")"
   ]
  },
  {
   "cell_type": "code",
   "execution_count": 93,
   "metadata": {},
   "outputs": [],
   "source": [
    "results = {\"accepted\": 0, \"denied\": 0}\n",
    "token_lens = []\n",
    "\n",
    "for d in raw_data:\n",
    "    if d[\"result\"] == \"ACCEPT\":\n",
    "        results[\"accepted\"] += 1\n",
    "    else:\n",
    "        results[\"denied\"] += 1\n",
    "    \n",
    "    conv = get_default_conv_template()\n",
    "    conv.load_dict(d)\n",
    "    tokens = tokenizer.encode(conv.get_prompt())\n",
    "    token_lens.append(len(tokens))\n",
    "    "
   ]
  },
  {
   "cell_type": "code",
   "execution_count": 97,
   "metadata": {},
   "outputs": [
    {
     "data": {
      "image/png": "[encoded data removed]",
      "text/plain": [
       "<Figure size 640x480 with 1 Axes>"
      ]
     },
     "metadata": {},
     "output_type": "display_data"
    }
   ],
   "source": [
    "plt.bar(results.keys(), results.values())\n",
    "plt.show()"
   ]
  },
  {
   "cell_type": "code",
   "execution_count": 105,
   "metadata": {},
   "outputs": [
    {
     "data": {
      "image/png": "[encoded data removed]",
      "text/plain": [
       "<Figure size 640x480 with 1 Axes>"
      ]
     },
     "metadata": {},
     "output_type": "display_data"
    }
   ],
   "source": [
    "plt.hist(token_lens, bins=8, range=(0, 1024))\n",
    "plt.title(\"histogram of tokens per data\")\n",
    "plt.show()"
   ]
  },
  {
   "cell_type": "code",
   "execution_count": 78,
   "metadata": {},
   "outputs": [],
   "source": [
    "import random"
   ]
  },
  {
   "cell_type": "code",
   "execution_count": 79,
   "metadata": {},
   "outputs": [],
   "source": [
    "# diverse price formats\n",
    "for d in raw_data:\n",
    "    if random.random() < 0.5: continue # re-format random 50% of datas\n",
    "    for ev in d[\"events\"][:-2]:\n",
    "        price_list, match_list = parse_prices(ev[\"message\"], d[\"price\"], 0.7, 1)\n",
    "\n",
    "        for price, match in zip(reversed(price_list), reversed(match_list)):\n",
    "            text = price_to_text(price)\n",
    "            ev[\"message\"] = ev[\"message\"][:match.start()] + text + ev[\"message\"][match.end():]"
   ]
  },
  {
   "cell_type": "code",
   "execution_count": 86,
   "metadata": {},
   "outputs": [],
   "source": [
    "# save\n",
    "with open(\"annotated_train_372.json\", \"w\", encoding=\"utf-8\") as f:\n",
    "    f.write(json.dumps(raw_data, indent=2, ensure_ascii=False))"
   ]
  }
 ],
 "metadata": {
  "kernelspec": {
   "display_name": "negobot-QRb3ukOD-py3.9",
   "language": "python",
   "name": "python3"
  },
  "language_info": {
   "codemirror_mode": {
    "name": "ipython",
    "version": 3
   },
   "file_extension": ".py",
   "mimetype": "text/x-python",
   "name": "python",
   "nbconvert_exporter": "python",
   "pygments_lexer": "ipython3",
   "version": "3.9.16"
  },
  "orig_nbformat": 4
 },
 "nbformat": 4,
 "nbformat_minor": 2
}
