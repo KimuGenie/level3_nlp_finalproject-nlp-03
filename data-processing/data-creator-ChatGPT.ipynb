{
 "cells": [
  {
   "cell_type": "markdown",
   "metadata": {},
   "source": [
    "### 0. 라이브러리 호출"
   ]
  },
  {
   "cell_type": "code",
   "execution_count": 1,
   "metadata": {},
   "outputs": [],
   "source": [
    "import openai\n",
    "import json\n",
    "import random\n",
    "import re\n",
    "import datetime\n",
    "import os"
   ]
  },
  {
   "cell_type": "markdown",
   "metadata": {},
   "source": [
    "### 1. API KEY 입력"
   ]
  },
  {
   "cell_type": "code",
   "execution_count": 3,
   "metadata": {},
   "outputs": [],
   "source": [
    "openai.api_key = \"<YOUR API KEY>\" #API KEY"
   ]
  },
  {
   "cell_type": "markdown",
   "metadata": {},
   "source": [
    "### 2. Data 생성"
   ]
  },
  {
   "cell_type": "code",
   "execution_count": 4,
   "metadata": {},
   "outputs": [
    {
     "name": "stdout",
     "output_type": "stream",
     "text": [
      "100.0 %\n"
     ]
    }
   ],
   "source": [
    "k=1 #생성해낼 데이터 갯수, ChatGPT API자체 오류 때문에 k는 작은 값으로 여러번 실행하는 것이 효율적\n",
    "chats=[{} for i in range(k)]\n",
    "count=0\n",
    "while chats[-1]=={}:\n",
    "    try:\n",
    "        is_free = False\n",
    "        while not is_free:\n",
    "            \n",
    "            ###제목 생성 모델###\n",
    "            completion = openai.ChatCompletion.create(\n",
    "                model=\"gpt-3.5-turbo\",\n",
    "                messages=[\n",
    "                    {\"role\": \"system\", \"content\": \"무료로 나누거나 파는 것이 아닌, 랜덤으로 정확한 물건의 이름과 그에 맞는 정확한 브랜드 이름을 생성해. 절대 대괄호를 사용해서 토큰을 생성하지마. 반드시 물건 이름과 브랜드 이름을 생성해내야해 \"},\n",
    "                    {\"role\": \"user\", \"content\": \"무료 나눔이 아닌 랜덤으로 아무 물건의 중고 거래 게시글 제목을 하나만 생성해줘\"}\n",
    "                    ]\n",
    "                )\n",
    "            result = completion.choices[0].message\n",
    "            title=result[\"content\"]\n",
    "            #무료가 포함된 제목은 제거\n",
    "            if \"무료\" not in title:\n",
    "                is_free = True\n",
    "            else:\n",
    "                print(\"제목에 무료가 포함되었음. :(\")\n",
    "                \n",
    "        is_free_2 = False\n",
    "        while not is_free_2:\n",
    "            \n",
    "            ###가격 생성 모델###        \n",
    "            completion = openai.ChatCompletion.create(\n",
    "                model=\"gpt-3.5-turbo\",\n",
    "                messages=[\n",
    "                    {\"role\": \"system\", \"content\": \"중고거래를 위한 게시글의 제목을 줄거야. 이것에 대해 적당한 판매 희망 가격을 생성해줘. 생성결과는 가격을 정수형으로 출력해줘. (예를 들어, 100000) 그리고 무조건 숫자만 생성해줘, 가격협의 이런건 안돼. 형태는 가격: \"},\n",
    "                    {\"role\": \"user\", \"content\": title}\n",
    "                    ]\n",
    "                )\n",
    "            result = completion.choices[0].message\n",
    "            price=result[\"content\"]\n",
    "            price=int(price[4:]) #\"가격: \"의 형식, 숫자만 추출\n",
    "            \n",
    "            ###상품 설명 생성 모델### \n",
    "            completion = openai.ChatCompletion.create(\n",
    "                model=\"gpt-3.5-turbo\",\n",
    "                messages=[\n",
    "                    {\"role\": \"system\", \"content\": \"중고거래를 위한 게시글의 제목을 입력하면, 이 제목에 대한 상품 설명을 생성해줘, 해당 물건의 상태(예를들어, 사용감, 손상정도)에 대해서 정확한 수치를 사용해서 언급해. 한국말로 생성해줘.\"},\n",
    "                    {\"role\": \"user\", \"content\": title}\n",
    "                    ]\n",
    "                )\n",
    "            accept_content_chat=f\"중고거래에서 판매자와 구매자가 주고받는 채팅데이터 전체를 생성해라. 다음과 같은 규칙을 지켜서 대화를 진행하라.  0. 매 채팅마다 [판매자] 또는 [구매자]를 구분해라 1. 구매자가 먼저 대화를 시도한다. 2. 판매물건과 판매희망가, 그리고 물건에 대한 판매자의 설명이 주어진다. 3. 최대한 간단 명료하게, 짧게 대화한다. 한문장에서 두 문장 사이로. 4. 대화는 6번 이상 오고 가야한다. 5. 판매자는 최대한 {price}에 가까운 가격으로 물건을 파는 것을 목표로 하되, 구매자의 조건에 따라 목표 가격의 살짝 아래로 판매할 수 있다. 목표 가격은 언급하지 않는다. 구매자가 괜찮은 조건을 제시하였기 때문에 네고를 수락한다.  6. 네고에 대한 언급은 구매자가 먼저 시작한다.  구매자가 제시하는 거래 희망가격은 판매자가 제시하는 거래 희망가격보다 무조건 작거나 같다. 8. 협상이 아닌, 네고라는 단어를 사용한다. 네고는 협상과 동의어이다. 9. 구매자는 네고가를 제시할 때, 그 근거를 최대한 상품 설명에 나와있는 내용을 이용한다. 10. 거래의 구체적인 방법, 특히 주소, 거래 방식, 거래 날짜, 거래 장소, 계좌, 입금방식, 연락처,개인정보에 대해서는 판매자와 구매자 모두 언급하지 않는다. 상품 정보와 거래가에 대한 내용만 생성한다.  12. 대화의 마무리는 다음과 같다. 판매자 또는 구매자가 마지막으로 최종 네고가를 제시한다. 이에 대해 거래가 성사된 경우 생성된 데이터의 제일 마지막에 반드시 <ACCEPT> 토큰을 대화 맨마지막에 덧붙이고 대화를 종료한다.\"\n",
    "            deny_content_chat=f\"중고거래에서 판매자와 구매자가 주고받는 채팅데이터 전체를 생성해라.  다음과 같은 규칙을 반드시 지켜서 대화를 진행하라. 0. 서로 거래 가격을 합의하지 못해서 거래가 성사되지 못하고 대화가 종료된다. 1. 매 채팅마다 [판매자] 또는 [구매자]를 구분해라 2. 구매자가 먼저 대화를 시도한다. 2. 판매물건과 판매희망가, 그리고 물건에 대한 판매자의 설명이 주어진다. 3. 최대한 간단 명료하게, 짧게 대화한다. 한문장에서 두 문장 사이로. 4. 대화는 6번 이상 오고 가야한다. 5.구매자가 마지막 까지 판매자가 제안한 가격보다 낮은 가격에서의 거래를 원한다. 6. 네고에 대한 언급은 구매자가 먼저 시작한다. 판매자도 어느정도 네고에 호응하지만, 구매자가 제시한 가격보단 높은 가격에서 거래를 원한다. 따라서 거래가 성사되지 않는다 7. 구매자의 말투가 매우 무례할 수도 있다. 8. 구매자가 무례한 말투를 사용할 경우 판매자는 거래를 단호한 어조로 거절한다. 9. 협상이 아닌, 네고라는 단어를 사용한다. 네고는 협상과 동의어이다. 10. 구매자는 네고가를 제시할 때, 그 근거를 최대한 상품 설명에 나와있는 내용을 이용한다. 11. 거래의 구체적인 방법, 특히 주소, 거래 방식, 거래 날짜, 거래 장소, 계좌, 입금방식, 연락처,개인정보에 대해서는 판매자와 구매자 모두 언급하지 않는다. 상품 정보와 거래가에 대한 내용만 생성한다.  12. 대화의 마무리는 다음과 같다. 판매자 또는 구매자가 마지막으로 최종 네고가를 제시한다. 구매자의 네고가가 판매자의 네고가보다 낮기에 거래가 성사되지 않는다. 생성된 데이터의 제일 마지막에 반드시 <DENY> 토큰을 대화 맨마지막에 덧붙이고 대화를 종료한다.\"\n",
    "            result = completion.choices[0].message\n",
    "            description=result[\"content\"]\n",
    "            title_description =f\"제목: {title} 설명: {description} 희망가격:{price}\"\n",
    "\n",
    "            chats[count][\"title\"]=title\n",
    "            chats[count][\"description\"]=description.replace(\"\\n\",\"\")\n",
    "            chats[count][\"price\"]=price\n",
    "            \n",
    "            ###채팅 데이터 생성 모델###            \n",
    "            accept_per = random.randint(0,100) #거래 성사, 거절 비율 임의 조절\n",
    "            if accept_per <70:\n",
    "                completion = openai.ChatCompletion.create(\n",
    "                    model=\"gpt-3.5-turbo\",\n",
    "                    messages=[\n",
    "                        {\"role\": \"system\", \"content\": accept_content_chat},\n",
    "                        {\"role\": \"user\", \"content\": title_description+\"주어진 제목과 판매희망가, 상품설명을 참조해서 채팅데이터 전체를 생성해줘\"}\n",
    "                        ]\n",
    "                    )\n",
    "            else:\n",
    "                completion = openai.ChatCompletion.create(\n",
    "                    model=\"gpt-3.5-turbo\",\n",
    "                    messages=[\n",
    "                        {\"role\": \"system\", \"content\": deny_content_chat},\n",
    "                        {\"role\": \"user\", \"content\": title_description+\"주어진 제목과 판매희망가, 상품설명을 참조해서 채팅데이터 전체를 생성해줘\"}\n",
    "                        ]\n",
    "                    )\n",
    "            result = completion.choices[0].message\n",
    "            events=result[\"content\"]\n",
    "            \n",
    "        ###생성 데이터 전처리###\n",
    "            a = re.split(r'(?=\\[구매자\\]|\\[판매자\\]|\\[ACCEPT\\]|\\<ACCEPT\\>|\\[DENY\\]|\\<DENY\\>)', events)\n",
    "            a = [sentence for sentence in a if sentence != \"\"]\n",
    "            a = [sentence.replace('\\n', \"\") for sentence in a]\n",
    "            chats[count][\"result\"]=a[-1][1:-1]\n",
    "            if chats[count][\"result\"] == \"ACCEPT\" or chats[count][\"result\"] == \"DENY\":\n",
    "                is_free_2 = True\n",
    "            else:\n",
    "                print(\"결과 토큰 오류\")\n",
    "        parsed_events=[]        \n",
    "        for sentence in a:\n",
    "            each_chat={}\n",
    "            if \"구매자\" in sentence[:7]:\n",
    "                each_chat[\"role\"]=\"구매자\"\n",
    "                each_chat[\"message\"]=sentence[6:]\n",
    "                parsed_events.append(each_chat)\n",
    "            elif \"판매자\" in sentence[:7]:\n",
    "                each_chat[\"role\"]=\"판매자\"\n",
    "                each_chat[\"message\"]=sentence[6:] \n",
    "                parsed_events.append(each_chat)\n",
    "            else:\n",
    "                pass     \n",
    "        chats[count][\"events\"]=parsed_events\n",
    "        count += 1\n",
    "        print (str(count/k*100),\"%\")\n",
    "        \n",
    "    ###예외처리###   \n",
    "    except ValueError: #가격 생성 오류\n",
    "        print(\"ValueError\")\n",
    "        continue\n",
    "\n",
    "###데이터 저장###\n",
    "time=str(datetime.datetime.now())[-6:]\n",
    "new_file_path = f'/opt/generated_data/{time}_generation_sample.json' #YOUR PATH  \n",
    "with open(new_file_path, 'w', encoding='utf-8') as f:\n",
    "    json.dump(chats, f, ensure_ascii=False, indent=4)"
   ]
  },
  {
   "cell_type": "markdown",
   "metadata": {},
   "source": [
    "### 3. Data 병합"
   ]
  },
  {
   "cell_type": "code",
   "execution_count": null,
   "metadata": {},
   "outputs": [],
   "source": [
    "def merge_json_files(file1, file2, output_file): #file1 + file2 = output_file\n",
    "    with open(file1, 'r') as f1:\n",
    "        data1 = json.load(f1)\n",
    "    with open(file2, 'r') as f2:\n",
    "        data2 = json.load(f2)\n",
    "    merged_data = data1 + data2\n",
    "    with open(output_file, 'w', encoding='utf-8') as output:\n",
    "        json.dump(merged_data, output, ensure_ascii=False, indent=4)\n",
    "\n",
    "###디렉토리 내의 모든 파일명 가져오기###\n",
    "file_list=[]\n",
    "def get_filenames_in_directory(directory):\n",
    "    filenames = os.listdir(directory)\n",
    "    for filename in filenames:\n",
    "        file_list.append(\"/opt/generated_data/\"+str(filename))\n",
    "    return file_list\n",
    "\n",
    "###파일 합치기###\n",
    "directory_path = '/opt/generated_data'\n",
    "merge_sus=get_filenames_in_directory(directory_path)\n",
    "merge_sus\n",
    "for suspect in merge_sus:\n",
    "    merge_json_files('/opt/merged.json',suspect,'/opt/merged.json')"
   ]
  },
  {
   "cell_type": "markdown",
   "metadata": {},
   "source": [
    "### 4. Data 전처리"
   ]
  },
  {
   "cell_type": "markdown",
   "metadata": {},
   "source": [
    "#### 4.1 Data 확인"
   ]
  },
  {
   "cell_type": "code",
   "execution_count": 5,
   "metadata": {},
   "outputs": [
    {
     "data": {
      "text/plain": [
       "1000"
      ]
     },
     "execution_count": 5,
     "metadata": {},
     "output_type": "execute_result"
    }
   ],
   "source": [
    "file_path = \"/opt/final_merge.json\"\n",
    "with open(file_path, \"r\") as json_file:\n",
    "    json_data = json_file.read()\n",
    "    parsed_data = json.loads(json_data)\n",
    "len(parsed_data)"
   ]
  },
  {
   "cell_type": "markdown",
   "metadata": {},
   "source": [
    "#### 4.2 Data 가격 정보 추출"
   ]
  },
  {
   "cell_type": "code",
   "execution_count": 6,
   "metadata": {},
   "outputs": [],
   "source": [
    "last_prices=[]\n",
    "for k in range(len(parsed_data)):\n",
    "    price_lists=[]\n",
    "    \n",
    "    ###정규표현식을 활용한 가격정보 추출###\n",
    "    for i in range(len(parsed_data[k]['events'])):\n",
    "        patterns = [r\"\\d+,\\d+,*\\d+\",r\"\\d{3}\\d+\",r\"\\d*만\\s*\\d*천+\\s*\",r\"\\d+만(?!\\s?\\d)\"]\n",
    "        price_list=[parsed_data[k]['events'][i]['role']]\n",
    "        \n",
    "        ###1.숫자로 되어있으나 쉼표가 있는 경우###   \n",
    "        matches=re.findall(patterns[0],parsed_data[k]['events'][i]['message'])\n",
    "        if matches:\n",
    "            numbers = matches\n",
    "            for number in range(len(numbers)):\n",
    "                numbers[number] = \"\".join([sublist.replace(\",\", \"\") for sublist in numbers[number]])\n",
    "            price_list.append(numbers)\n",
    "            \n",
    "        ###2.단순히 숫자로만 된 가격(4자리 이상)### \n",
    "        matches=re.findall(patterns[1],parsed_data[k]['events'][i]['message'])\n",
    "        if matches:\n",
    "            numbers = matches\n",
    "            price_list.append(numbers)\n",
    "        \n",
    "        ###3.만, 천의 단위가 한글로 쓰였을 경우 (ex. 5만 3천원)###  \n",
    "        matches=re.findall(patterns[2],parsed_data[k]['events'][i]['message'])\n",
    "        if matches:\n",
    "            numbers = matches\n",
    "            for number in range(len(numbers)):\n",
    "                numbers[number]=numbers[number].split(\"만\")\n",
    "                numbers[number]=str(int(numbers[number][0])*10000+int(\"\".join([k for k in numbers[number][-1] if k !='천']))*1000)\n",
    "            price_list.append(numbers)\n",
    "        \n",
    "        ###4.만 의 단위가 한글로 쓰였을 경우 (ex.3만원, 12만원)###      \n",
    "        matches=re.findall(patterns[3],parsed_data[k]['events'][i]['message'])\n",
    "        if matches:\n",
    "            numbers = matches\n",
    "            for number in range(len(numbers)):\n",
    "                numbers[number]=\"\".join([k for k in numbers[number] if k !='만'])\n",
    "                numbers[number]=str(int(numbers[number])*10000)\n",
    "            price_list.append(numbers)\n",
    "        \n",
    "        ###뽑혀진 가격 정보 출력###        \n",
    "        if len(price_list) == 1:\n",
    "            price_list.append(None) #아무런 가격이 뽑히지 않았던 경우\n",
    "        price_lists.append(price_list)\n",
    "    \n",
    "    ###구매자의 최종 제안 금액 출력###\n",
    "    answer=[]\n",
    "    for price in price_lists:\n",
    "        if price[0]=='구매자':\n",
    "            if price [1] != None:\n",
    "                min_compare=[]\n",
    "                for k in range(1,len(price)):\n",
    "                    min_compare.append(min(price[k]))\n",
    "                answer.append(min_compare)\n",
    "    if answer != []:\n",
    "        last_price=str(min(answer[-1]))\n",
    "    else:\n",
    "        last_price = '0'\n",
    "    last_prices.append(\" ##<\"+last_price+\">## \")\n",
    "    last_price=\"\""
   ]
  },
  {
   "cell_type": "markdown",
   "metadata": {},
   "source": [
    "#### 4.3 Data 변경"
   ]
  },
  {
   "cell_type": "code",
   "execution_count": null,
   "metadata": {},
   "outputs": [],
   "source": [
    "###Data 변경###\n",
    "for k in range(len(last_prices)):\n",
    "    #마지막 발화자가 판매자인 경우\n",
    "    if parsed_data[k][\"events\"][-1][\"role\"]=='판매자':\n",
    "        parsed_data[k][\"events\"].append({'role':'구매자','message':last_prices[k]})\n",
    "    #마지막 발화자가 구매자인 경우\n",
    "    else:\n",
    "        parsed_data[k][\"events\"][-1]['message']=last_prices[k]"
   ]
  },
  {
   "cell_type": "markdown",
   "metadata": {},
   "source": [
    "#### 4.4 Noise Data 제거"
   ]
  },
  {
   "cell_type": "code",
   "execution_count": 7,
   "metadata": {},
   "outputs": [],
   "source": [
    "###판매가가 0원이었거나 거래 중 0원을 암시한 경우 제거###\n",
    "wrong_list = []\n",
    "for k in range(len(parsed_data)):\n",
    "    if parsed_data[k][\"events\"][-1][\"message\"] == \" ##<0>## \":\n",
    "        wrong_list.append(k)\n",
    "    if parsed_data[k][\"price\"] == 0:\n",
    "        wrong_list.append(k)\n",
    "wrong_list = list(set(wrong_list))\n",
    "wrong_list = sorted(wrong_list,reverse=True)\n",
    "for wrong_index in wrong_list:\n",
    "    del parsed_data[wrong_index]"
   ]
  },
  {
   "cell_type": "markdown",
   "metadata": {},
   "source": [
    "#### 4.5 Data 저장"
   ]
  },
  {
   "cell_type": "code",
   "execution_count": null,
   "metadata": {},
   "outputs": [],
   "source": [
    "new_file_path = f'/opt/final_merge.json' #YOUR PATH\n",
    "with open(new_file_path, 'w', encoding='utf-8') as f:\n",
    "    json.dump(parsed_data, f, ensure_ascii=False, indent=4)"
   ]
  }
 ],
 "metadata": {
  "kernelspec": {
   "display_name": "MRC",
   "language": "python",
   "name": "python3"
  },
  "language_info": {
   "codemirror_mode": {
    "name": "ipython",
    "version": 3
   },
   "file_extension": ".py",
   "mimetype": "text/x-python",
   "name": "python",
   "nbconvert_exporter": "python",
   "pygments_lexer": "ipython3",
   "version": "3.8.16"
  },
  "orig_nbformat": 4,
  "vscode": {
   "interpreter": {
    "hash": "1db208c91c942391214ad30a968c7b1faa90f93eb8a838e6a75e1fbbc23680a9"
   }
  }
 },
 "nbformat": 4,
 "nbformat_minor": 2
}
