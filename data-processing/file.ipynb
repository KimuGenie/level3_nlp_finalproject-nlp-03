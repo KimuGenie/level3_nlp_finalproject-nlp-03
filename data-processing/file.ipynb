{
 "cells": [
  {
   "cell_type": "code",
   "execution_count": 1,
   "metadata": {},
   "outputs": [
    {
     "name": "stdout",
     "output_type": "stream",
     "text": [
      "done\n"
     ]
    }
   ],
   "source": [
    "import json \n",
    "import re\n",
    "\n",
    "with open(\"./chatbot_train.json\", 'r') as f:\n",
    "    data = json.load(f)\n",
    "\n",
    "for i, d in enumerate(data):\n",
    "    if d['title'].strip() == \"\":\n",
    "        data[i]['title'] = \"제목\"\n",
    "    if \"$\" in d['title']:\n",
    "        data[i]['title'] = d['title'].replace(\"$\", \"\")\n",
    "    if \"달러\" in d['title']:\n",
    "        data[i]['title'] = d['title'].replace(\"달러\", \"원\")\n",
    "    for j, e in enumerate(d['events']):\n",
    "        if e['message'].strip() == \"\":\n",
    "            data[i]['events'][j]['message'] = \"네\"\n",
    "        if \"OFFER\" in e['message'] and e['role'] == \"구매자\":\n",
    "            price = re.findall(r\"\\d+\", e['message'])[0]\n",
    "            data[i]['events'][j]['message'] = f\"{price}원에 구매할게요.\"\n",
    "        elif \"OFFER\" in e['message'] and e['role'] == \"판매자\":\n",
    "            price = re.findall(r\"\\d+\", e['message'])[0]\n",
    "            data[i]['events'][j]['message'] = f\"그럼 {price}원은 어떠세요?\"\n",
    "        if \"달러\" in e['message']:\n",
    "            data[i]['events'][j]['message'] = e['message'].replace(\"달러\", \"원\")\n",
    "        if \"$\" in e['message']:\n",
    "            data[i]['events'][j]['message'] = e['message'].replace(\"$\", \"\")\n",
    "        if \"ACCEPT\" in e['message']:\n",
    "            data[i]['events'][j]['message'] = '좋습니다. 수락할게요.'\n",
    "        if \"REJECT\" in e['message']:\n",
    "            data[i]['events'][j]['message'] = '거절하겠습니다.'\n",
    "\n",
    "with open(\"./new.json\", \"w\", encoding='utf-8') as f:\n",
    "    f.write(\n",
    "        json.dumps(data, indent=4, ensure_ascii=False)\n",
    "    )\n",
    "print('done')"
   ]
  },
  {
   "cell_type": "code",
   "execution_count": 2,
   "metadata": {},
   "outputs": [
    {
     "name": "stdout",
     "output_type": "stream",
     "text": [
      "3062\n"
     ]
    }
   ],
   "source": [
    "print(len(data))"
   ]
  },
  {
   "cell_type": "code",
   "execution_count": 1,
   "metadata": {},
   "outputs": [
    {
     "name": "stderr",
     "output_type": "stream",
     "text": [
      "Found cached dataset json (/opt/ml/.cache/huggingface/datasets/json/default-9f62e95e489b36ca/0.0.0)\n"
     ]
    },
    {
     "name": "stdout",
     "output_type": "stream",
     "text": [
      "User is already logged in.\n"
     ]
    },
    {
     "data": {
      "application/vnd.jupyter.widget-view+json": {
       "model_id": "52dfeb8d48ec4fb9970978fb2edfe33a",
       "version_major": 2,
       "version_minor": 0
      },
      "text/plain": [
       "Pushing dataset shards to the dataset hub:   0%|          | 0/1 [00:00<?, ?it/s]"
      ]
     },
     "metadata": {},
     "output_type": "display_data"
    },
    {
     "data": {
      "application/vnd.jupyter.widget-view+json": {
       "model_id": "f9ce01f3b0584340ab8849e758c62593",
       "version_major": 2,
       "version_minor": 0
      },
      "text/plain": [
       "Downloading metadata:   0%|          | 0.00/617 [00:00<?, ?B/s]"
      ]
     },
     "metadata": {},
     "output_type": "display_data"
    },
    {
     "name": "stderr",
     "output_type": "stream",
     "text": [
      "Updating downloaded metadata with the new split.\n"
     ]
    }
   ],
   "source": [
    "# to hub\n",
    "from datasets import Dataset\n",
    "import json \n",
    "from huggingface_hub import notebook_login\n",
    "notebook_login(new_session=False)\n",
    " \n",
    "with open(\"translated_new.json\",\"r\") as f:\n",
    "    data = json.load(f)\n",
    "\n",
    "dataset = Dataset.from_json('translated_new.json')\n",
    "dataset.push_to_hub(\"ggul-tiger/negobot-translated-train-3062\")\n",
    "\n"
   ]
  },
  {
   "cell_type": "code",
   "execution_count": 37,
   "metadata": {},
   "outputs": [
    {
     "name": "stdout",
     "output_type": "stream",
     "text": [
      "53\n",
      "54\n"
     ]
    }
   ],
   "source": [
    "import json \n",
    "with open(\"gpt4_53.json\", \"r\", encoding='utf-8') as f:\n",
    "    data = json.load(f)\n",
    "\n",
    "for i, d in enumerate(data):\n",
    "    # if 'Title' in d.keys():\n",
    "    #     d['title'] = d['Title']\n",
    "    #     del d['Title']\n",
    "    # if 'Price' in d.keys():\n",
    "    #     d['price'] = d['Price']\n",
    "    #     del d['Price']\n",
    "    # if '만원' in str(d['price']):\n",
    "    #     d['price'] = d['price'].replace('만원', '0000').strip()\n",
    "    #     d['price'] = int(d['price'].replace(\" \", \"\"))\n",
    "    for j, e in enumerate(d['events']):\n",
    "        if \"Buyer\" in e['role']:\n",
    "            data[i]['events'][j]['role'] = '구매자'\n",
    "        else:\n",
    "            data[i]['events'][j]['role'] = '판매자'\n",
    "        if j == 0 and e['role'] == '판매자':\n",
    "            print(i)\n",
    "            data[i]['events'].insert(0, {'role':'구매자', 'message':'안녕하세요.'})"
   ]
  },
  {
   "cell_type": "code",
   "execution_count": 38,
   "metadata": {},
   "outputs": [
    {
     "data": {
      "text/plain": [
       "[{'role': '구매자', 'message': '안녕하세요! LG 그램 13인치 노트북에 관심이 있어요. 가격 조정 가능할까요?'},\n",
       " {'role': '판매자', 'message': '안녕하세요! 네, 가격 조정은 얼마 정도를 생각하시나요?'},\n",
       " {'role': '구매자', 'message': '혹시 60만 원까지는 괜찮을까요? 사용기간과 키보드 상태를 고려해서 요청하는 건데요.'},\n",
       " {'role': '판매자',\n",
       "  'message': '제안해주신 가격은 너무 낮아서 어렵습니다. 하지만, 제안한 금액에서 조금만 올리면 수락할 수 있을 것 같네요.'},\n",
       " {'role': '구매자', 'message': '그럼 65만 원으로 할게요. 문제점 때문에 네고를 한 건 아닙니다.'},\n",
       " {'role': '판매자', 'message': '좋아요, 그 가격이면 거래 가능합니다. 65만 원으로 합의하고 진행할까요?'},\n",
       " {'role': '구매자', 'message': '네, 그렇게 하죠. 어디서 택배로 보내주시나요?'},\n",
       " {'role': '판매자',\n",
       "  'message': '저희는 서울에 있어서 서울 지역이면 직거래도 가능합니다. 아니면 택배로 보낼 수도 있습니다.'},\n",
       " {'role': '구매자', 'message': '저는 다른 지역에 사는데 택배로 보내주세요.'},\n",
       " {'role': '판매자', 'message': '알겠습니다. 제가 안전하게 포장해서 발송해드릴게요.'}]"
      ]
     },
     "execution_count": 38,
     "metadata": {},
     "output_type": "execute_result"
    }
   ],
   "source": [
    "data[0]['events']"
   ]
  },
  {
   "cell_type": "code",
   "execution_count": 39,
   "metadata": {},
   "outputs": [],
   "source": [
    "with open(\"gpt4_kor.json\", \"w\", encoding='utf-8') as f:\n",
    "    f.write(\n",
    "        json.dumps(data, indent=4, ensure_ascii=False)\n",
    "    )"
   ]
  },
  {
   "cell_type": "code",
   "execution_count": 40,
   "metadata": {},
   "outputs": [
    {
     "name": "stdout",
     "output_type": "stream",
     "text": [
      "Downloading and preparing dataset json/default to /opt/ml/.cache/huggingface/datasets/json/default-c3c9e6824ce0fe32/0.0.0...\n"
     ]
    },
    {
     "data": {
      "application/vnd.jupyter.widget-view+json": {
       "model_id": "535a1455fd974eb5890718e44a772ea5",
       "version_major": 2,
       "version_minor": 0
      },
      "text/plain": [
       "Downloading data files:   0%|          | 0/1 [00:00<?, ?it/s]"
      ]
     },
     "metadata": {},
     "output_type": "display_data"
    },
    {
     "data": {
      "application/vnd.jupyter.widget-view+json": {
       "model_id": "da7b29fe43a84ce9b83da9d0fdee22eb",
       "version_major": 2,
       "version_minor": 0
      },
      "text/plain": [
       "Extracting data files:   0%|          | 0/1 [00:00<?, ?it/s]"
      ]
     },
     "metadata": {},
     "output_type": "display_data"
    },
    {
     "data": {
      "application/vnd.jupyter.widget-view+json": {
       "model_id": "36fab81401f04e25be71628e12590134",
       "version_major": 2,
       "version_minor": 0
      },
      "text/plain": [
       "Generating train split: 0 examples [00:00, ? examples/s]"
      ]
     },
     "metadata": {},
     "output_type": "display_data"
    },
    {
     "name": "stdout",
     "output_type": "stream",
     "text": [
      "Dataset json downloaded and prepared to /opt/ml/.cache/huggingface/datasets/json/default-c3c9e6824ce0fe32/0.0.0. Subsequent calls will reuse this data.\n"
     ]
    },
    {
     "data": {
      "application/vnd.jupyter.widget-view+json": {
       "model_id": "df156a89be6c467b8ea1f8c0fdb71274",
       "version_major": 2,
       "version_minor": 0
      },
      "text/plain": [
       "Pushing dataset shards to the dataset hub:   0%|          | 0/1 [00:00<?, ?it/s]"
      ]
     },
     "metadata": {},
     "output_type": "display_data"
    },
    {
     "data": {
      "application/vnd.jupyter.widget-view+json": {
       "model_id": "f6d79cfda9ac4ffd84a25bb471d735a1",
       "version_major": 2,
       "version_minor": 0
      },
      "text/plain": [
       "Creating parquet from Arrow format:   0%|          | 0/1 [00:00<?, ?ba/s]"
      ]
     },
     "metadata": {},
     "output_type": "display_data"
    },
    {
     "data": {
      "application/vnd.jupyter.widget-view+json": {
       "model_id": "32159c853a7649c1b7556bcb16c43d1a",
       "version_major": 2,
       "version_minor": 0
      },
      "text/plain": [
       "Deleting unused files from dataset repository:   0%|          | 0/1 [00:00<?, ?it/s]"
      ]
     },
     "metadata": {},
     "output_type": "display_data"
    },
    {
     "name": "stderr",
     "output_type": "stream",
     "text": [
      "Updating downloaded metadata with the new split.\n"
     ]
    }
   ],
   "source": [
    "from datasets import Dataset \n",
    "\n",
    "dataset = Dataset.from_json('gpt4_kor.json')\n",
    "dataset.push_to_hub(\"dnjdsxor21/nego-dialogue-53\", split='train')"
   ]
  }
 ],
 "metadata": {
  "kernelspec": {
   "display_name": "app-UQ3qktBC-py3.9",
   "language": "python",
   "name": "python3"
  },
  "language_info": {
   "codemirror_mode": {
    "name": "ipython",
    "version": 3
   },
   "file_extension": ".py",
   "mimetype": "text/x-python",
   "name": "python",
   "nbconvert_exporter": "python",
   "pygments_lexer": "ipython3",
   "version": "3.9.16"
  },
  "orig_nbformat": 4
 },
 "nbformat": 4,
 "nbformat_minor": 2
}
