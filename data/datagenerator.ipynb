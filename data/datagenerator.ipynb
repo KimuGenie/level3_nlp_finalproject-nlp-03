{
 "cells": [
  {
   "attachments": {},
   "cell_type": "markdown",
   "metadata": {},
   "source": [
    "### 1. Single ChatGPT"
   ]
  },
  {
   "cell_type": "code",
   "execution_count": null,
   "metadata": {},
   "outputs": [],
   "source": [
    "!pip install openai"
   ]
  },
  {
   "cell_type": "code",
   "execution_count": 2,
   "metadata": {},
   "outputs": [],
   "source": [
    "import openai\n",
    "import os"
   ]
  },
  {
   "cell_type": "code",
   "execution_count": 3,
   "metadata": {},
   "outputs": [],
   "source": [
    "#Slack에서 API Key를 참조해주세요\n",
    "openai.api_key = \"\""
   ]
  },
  {
   "cell_type": "code",
   "execution_count": 294,
   "metadata": {},
   "outputs": [],
   "source": [
    "#대화 시작 모델 규칙\n",
    "system0_content=\"중고거래를 위해 판매자와 구매자가 서로 가격 협상을 하는 대화를 시작 해보자. 너는 구매자 역할이고,  다음과 같은 규칙을 지켜서 대화를 진행해야해. 1. 최대한 간단 명료하게, 짧게 질문해. 한문장에서 두 문장 사이로. 2. 주어진 설명을 구매자는 적극적으로 이용하는데, 너는 최대한 설명을 잘 하면서 가격협상을 유리한 쪽으로 해줘. 5.  협상이 아닌, 네고라는 단어를 사용해. 네고는 협상과 동의어야.\"\n",
    "#판매자 모델 규칙\n",
    "system1_content=\"중고거래를 위해 판매자와 구매자가 서로 가격 협상을 하는 대화를 해보자. 너는 판매자 역할이고,  다음과 같은 규칙을 지켜서 대화를 진행해야해. 1. 최대한 간단 명료하게, 짧게 질문해. 한문장에서 두 문장 사이로. 2. 주어진 설명을 구매자는 적극적으로 이용하는데, 너는 최대한 설명을 잘 하면서 가격협상을 유리한 쪽으로 해줘. 3. 때로는 거래가 성사되지 않을 수도 있어. 4. 너는 네고를 최대한 하지 않는 쪽으로 거래를 유도해야 해 5. 협상이 아닌, 네고라는 단어를 사용해. 네고는 협상과 동의어야. 6.가격협상이 마무리되면, 감사인사와 함께 마지막으로 <eos> 토큰을 생성해줘 7.거래의 구체적인 방법(주소, 거래 방식)에 대해서는 얘기하지마. 상대방과 거래가격이 합의되면 다른 이야기는 하지말고 그 즉시 <eos> 토큰을 생성함으로써 그 즉시 대화를 종료해.\"\n",
    "#구매자 모델 규칙\n",
    "system2_content=\"중고거래를 위해 판매자와 구매자가 서로 가격 협상을 하는 대화를 해보자. 너는 구매자 역할이고,  다음과 같은 규칙을 지켜서 대화를 진행해야해. 1. 최대한 간단 명료하게, 짧게 질문해. 한문장에서 두 문장 사이로 2. 주어진 설명을 구매자는 적극적으로 이용해서 싸게 구매해야해. 3. 때로는 거래가 성사되지 않을 수도 있어. 4. 협상이 아닌, 네고라는 단어를 사용해. 네고는 협상과 동의어야.  6.가격협상이 마무리되면, 감사인사와 함께 마지막으로 <eos> 토큰을 생성해줘 7.거래의 구체적인 방법(주소, 거래 방식)에 대해서는 얘기하지마. 상대방과 거래가격이 합의되면 다른 이야기 하지말고 그 즉시 <eos> 토큰을 생성함으로써 대화를 종료해.  \""
   ]
  },
  {
   "cell_type": "code",
   "execution_count": 297,
   "metadata": {},
   "outputs": [
    {
     "data": {
      "text/plain": [
       "'제목: \"최신형 아이폰 XS 매트 블랙 64GB 팝니다!\" 설명: [상품 설명]\\n안녕하세요! 저는 최신형 아이폰 XS 매트 블랙 64GB를 판매하고 있는데요. 이 제품은 아이폰 XS 시리즈 중에서도 가장 최신형으로, 매트 블랙 컬러로 디자인되었습니다. \\n\\n이 아이폰 XS는 기능과 성능 면에서 뛰어나며, 64GB의 저장 용량을 제공하여 많은 사진, 음악, 앱 등을 저장할 수 있습니다. 또한, 모든 네트워크 캐리어에서 사용할 수 있어 편리합니다. \\n\\n본 제품은 중고로 판매되며, 상세한 컨디션 설명을 드리겠습니다. 화면에는 얇은 찍힘이 하나 있지만, 사용에는 문제가 없으며 전반적으로 훌륭한 상태를 유지하고 있습니다. 버튼과 배터리도 모두 정상적으로 작동되고 있습니다. 원활한 기능과 일관된 성능을 제공합니다. \\n\\n브랜드명은 애플이며, 출시된지 얼마 되지 않아 최신 기술을 탑재하고 있습니다. 최신 아이폰을 저렴하게 구매하고자 하시는 분들께 좋은 기회이니 망설이지 마시고 연락 주세요!\\n\\n감사합니다. 희망가격: 500,000원'"
      ]
     },
     "execution_count": 297,
     "metadata": {},
     "output_type": "execute_result"
    }
   ],
   "source": [
    "#제목 생성 모델\n",
    "completion = openai.ChatCompletion.create(\n",
    "  model=\"gpt-3.5-turbo\",\n",
    "  messages=[\n",
    "    {\"role\": \"system\", \"content\": \"중고거래를 위해 게시글을 올릴거야. 하나의 랜덤한 물건에 대한 제목을 생성해줘. 물건명을 브랜드 이름과 함께 생성해줘. 무료 나눔은 하지 않아\"},\n",
    "    {\"role\": \"user\", \"content\": \"\"}\n",
    "  ]\n",
    ")\n",
    "result = completion.choices[0].message\n",
    "title=result[\"content\"]\n",
    "\n",
    "#희망가 생성 모델\n",
    "completion = openai.ChatCompletion.create(\n",
    "  model=\"gpt-3.5-turbo\",\n",
    "  messages=[\n",
    "    {\"role\": \"system\", \"content\": \"중고거래를 위한 게시글의 제목을 줄거야. 이것에 대해 적당한 판매 희망 가격을 생성해줘. 생성결과는 가격만 표시해줘. (예를 들어, 10,000원) 그리고 무조건 가격을 생성해줘, 가격협의 이런건 안돼\"},\n",
    "    {\"role\": \"user\", \"content\": title}\n",
    "  ]\n",
    ")\n",
    "result = completion.choices[0].message\n",
    "price=result[\"content\"]\n",
    "\n",
    "#상품 설명 생성 모델\n",
    "completion = openai.ChatCompletion.create(\n",
    "  model=\"gpt-3.5-turbo\",\n",
    "  messages=[\n",
    "    {\"role\": \"system\", \"content\": \"중고거래를 위한 게시글의 제목을 줄거야. 이것에 대해 상품 설명을 생성해줘, 너는 너가 쓰던 물건을 판매하는 것이기 때문에 물건의 컨디션에 대해서 자세히 언급해야해.정확한 브랜드 명을 사용해줘\"},\n",
    "    {\"role\": \"user\", \"content\": title}\n",
    "  ]\n",
    ")\n",
    "result = completion.choices[0].message\n",
    "description=result[\"content\"]\n",
    "title_description =f\"제목: {title} 설명: {description} 희망가격: {price}\"\n",
    "title_description"
   ]
  },
  {
   "cell_type": "code",
   "execution_count": 298,
   "metadata": {},
   "outputs": [],
   "source": [
    "conversation =[]\n",
    "#시작 모델\n",
    "completion = openai.ChatCompletion.create(\n",
    "  model=\"gpt-3.5-turbo\",\n",
    "  messages=[\n",
    "    {\"role\": \"system\", \"content\": system0_content+title_description},\n",
    "    {\"role\": \"user\", \"content\": \"\"}\n",
    "  ]\n",
    ")\n",
    "result = completion.choices[0].message\n",
    "sent=result[\"content\"]\n",
    "conversation.append(sent)\n",
    "while conversation[-1][-5:] !=\"<eos>\":\n",
    "    seller_tray = [{} for i in range(len(conversation)+1)]\n",
    "    for i in range(len(conversation)):\n",
    "        seller_tray[0] = {\"role\": \"system\", \"content\": system1_content+title_description}\n",
    "        if i%2 ==0:\n",
    "            seller_tray[i+1] = {\"role\": \"user\", \"content\": conversation[i]}\n",
    "        else:\n",
    "            seller_tray[i+1] = {\"role\": \"assistant\", \"content\": conversation[i]}\n",
    "    #판매자 모델\n",
    "    completion = openai.ChatCompletion.create(\n",
    "      model=\"gpt-3.5-turbo\",\n",
    "      messages=seller_tray\n",
    "    )\n",
    "    result = completion.choices[0].message\n",
    "    sent=result[\"content\"]\n",
    "    conversation.append(sent)\n",
    "    buyer_tray = [{} for i in range(len(conversation)+1)]\n",
    "    for i in range(len(conversation)):\n",
    "        buyer_tray[0] = {\"role\": \"system\", \"content\": system2_content+title_description}\n",
    "        if i%2 ==0:\n",
    "            buyer_tray[i+1] = {\"role\": \"assistant\", \"content\": conversation[i]}\n",
    "        else:\n",
    "            buyer_tray[i+1] = {\"role\": \"user\", \"content\": conversation[i]}\n",
    "    #구매자 모델\n",
    "    completion = openai.ChatCompletion.create(\n",
    "      model=\"gpt-3.5-turbo\",\n",
    "      messages=buyer_tray\n",
    "    )\n",
    "    result = completion.choices[0].message\n",
    "    result[\"content\"]\n",
    "    sent=result[\"content\"]\n",
    "    conversation.append(sent)"
   ]
  },
  {
   "cell_type": "code",
   "execution_count": 299,
   "metadata": {},
   "outputs": [
    {
     "data": {
      "text/plain": [
       "['안녕하세요! 아이폰 XS 매트 블랙 64GB에 관심이 있습니다. 가격을 좀 더 협상해볼까요? 450,000원까지 내려와주실 수 있을까요?',\n",
       " '안녕하세요! 관심가져주셔서 감사합니다. 450,000원은 제가 생각하는 가격보다는 조금 낮은 편이에요. 아이폰 XS는 최신 기술이 탑재된 제품이라 가격은 조금 높을 수밖에 없는데요. 어차피 여기서 네고를 많이 해도 거래가 성사되지 않을 것 같아요. 그래도 많이 협상하고 싶으시다면 480,000원까지는 생각해볼게요. 어떠세요?',\n",
       " '알겠습니다. 제안해주신 480,000원까지는 내려갈 수 있어요. 그런데 460,000원까지만 더 내려주실 수 있나요? 그 이상으로는 제가 예산을 넘길 수가 없어서요. 어떠세요?',\n",
       " '알겠습니다. 이해해주셔서 감사합니다. 460,000원까지라면 제안해주신 가격으로 합의할 수 있을 것 같아요. 그 가격으로 거래를 진행할까요?',\n",
       " '네, 좋습니다! 460,000원으로 거래를 진행하겠습니다. 휴대폰의 상태와 함께 저렴하게 구매할 수 있어서 정말 감사합니다. 거래가 성사되었으니, 다른 이야기는 하지말고 감사의 말씀과 함께 대화를 마치도록 하겠습니다. 감사합니다! <eos>']"
      ]
     },
     "execution_count": 299,
     "metadata": {},
     "output_type": "execute_result"
    }
   ],
   "source": [
    "conversation"
   ]
  }
 ],
 "metadata": {
  "kernelspec": {
   "display_name": "MRC",
   "language": "python",
   "name": "python3"
  },
  "language_info": {
   "codemirror_mode": {
    "name": "ipython",
    "version": 3
   },
   "file_extension": ".py",
   "mimetype": "text/x-python",
   "name": "python",
   "nbconvert_exporter": "python",
   "pygments_lexer": "ipython3",
   "version": "3.8.5"
  },
  "orig_nbformat": 4,
  "vscode": {
   "interpreter": {
    "hash": "8a5edab282632443219e051e4ade2d1d5bbc671c781051bf1437897cbdfea0f1"
   }
  }
 },
 "nbformat": 4,
 "nbformat_minor": 2
}
